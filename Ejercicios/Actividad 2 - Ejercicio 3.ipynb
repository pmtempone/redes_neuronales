{
 "cells": [
  {
   "cell_type": "markdown",
   "metadata": {},
   "source": [
    "# Actidad 2 - Ejercicio 3"
   ]
  },
  {
   "cell_type": "code",
   "execution_count": null,
   "metadata": {},
   "outputs": [
    {
     "name": "stdout",
     "output_type": "stream",
     "text": [
      "[  7  18  -2 ..., 543 525 536]\n"
     ]
    }
   ],
   "source": [
    "import matplotlib.pyplot as plt\n",
    "from scipy.io import wavfile as wf\n",
    "from Ejercicios.adaline import train\n",
    "\n",
    "import numpy as np\n",
    "%matplotlib inline\n",
    "samplerate, audioOriginal = wf.read('/Users/pablotempone/Google Drive/Maestria/Redes Neuronales/Ejercicio2/entrevista.wav')\n",
    "\n",
    "plt.figure()\n",
    "plt.plot(audiooriginal)"
   ]
  },
  {
   "cell_type": "markdown",
   "metadata": {},
   "source": [
    "## a. Aplicar ruido a la señal"
   ]
  },
  {
   "cell_type": "code",
   "execution_count": 13,
   "metadata": {
    "collapsed": true
   },
   "outputs": [
    {
     "name": "stderr",
     "output_type": "stream",
     "text": [
      "/Users/pablotempone/anaconda/envs/py36/lib/python3.6/site-packages/ipykernel_launcher.py:4: RuntimeWarning: overflow encountered in short_scalars\n  after removing the cwd from sys.path.\n"
     ]
    }
   ],
   "source": [
    "max_audio = np.max(audiooriginal)\n",
    "min_audio = np.min(audiooriginal)\n",
    "\n",
    "audio_scale = (audiooriginal-min_audio)/(max_audio-min_audio)"
   ]
  },
  {
   "cell_type": "code",
   "execution_count": 14,
   "metadata": {},
   "outputs": [],
   "source": [
    "def rolling_window(a, window):\n",
    "   shape = a.shape[:-1] + (a.shape[-1] - window + 1, window)\n",
    "   strides = a.strides + (a.strides[-1],)\n",
    "   return np.lib.stride_tricks.as_strided(a, shape=shape, strides=strides)"
   ]
  },
  {
   "cell_type": "code",
   "execution_count": 15,
   "metadata": {},
   "outputs": [],
   "source": [
    "r = 0.7\n",
    "numRandom = np.random.uniform(0,1,size=len(audio_scale)) - 0.5\n",
    "audio_scale_ruido =  audio_scale + numRandom*r"
   ]
  },
  {
   "cell_type": "code",
   "execution_count": 27,
   "metadata": {},
   "outputs": [],
   "source": [
    "w = 2\n",
    "\n",
    "base_audio = rolling_window(audio_scale,w+1)\n",
    "base_ruido = rolling_window(audio_scale_ruido,w+1)\n",
    "\n",
    "target = base_audio[:,1]"
   ]
  },
  {
   "cell_type": "markdown",
   "metadata": {},
   "source": [
    "## b. realizar muestreo"
   ]
  },
  {
   "cell_type": "code",
   "execution_count": 28,
   "metadata": {},
   "outputs": [],
   "source": [
    "base_ruido = np.transpose(audio_scale_ruido)\n",
    "target_t = np.transpose(target)"
   ]
  },
  {
   "cell_type": "code",
   "execution_count": 34,
   "metadata": {},
   "outputs": [],
   "source": [
    "from Ejercicios.adaline import train\n",
    "\n",
    "alpha = 0.05\n",
    "cota_err = 0.1\n",
    "\n",
    "base_ruido_t = np.transpose(base_ruido)\n",
    "\n",
    "ruido_train_scale = base_ruido_t[:1000]\n",
    "target_train = target_t[:1000]"
   ]
  },
  {
   "cell_type": "code",
   "execution_count": 35,
   "metadata": {},
   "outputs": [
    {
     "ename": "ValueError",
     "evalue": "not enough values to unpack (expected 2, got 1)",
     "traceback": [
      "\u001b[0;31m---------------------------------------------------------------------------\u001b[0m",
      "\u001b[0;31mValueError\u001b[0m                                Traceback (most recent call last)",
      "\u001b[0;32m<ipython-input-35-3d651e736d96>\u001b[0m in \u001b[0;36m<module>\u001b[0;34m()\u001b[0m\n\u001b[0;32m----> 1\u001b[0;31m \u001b[0mtrain\u001b[0m\u001b[0;34m(\u001b[0m\u001b[0mruido_train_scale\u001b[0m\u001b[0;34m,\u001b[0m\u001b[0mtarget_train\u001b[0m\u001b[0;34m,\u001b[0m\u001b[0malpha\u001b[0m\u001b[0;34m,\u001b[0m\u001b[0;36m100\u001b[0m\u001b[0;34m,\u001b[0m\u001b[0mcota_err\u001b[0m\u001b[0;34m,\u001b[0m\u001b[0;34m\"purelin\"\u001b[0m\u001b[0;34m,\u001b[0m\u001b[0;32mTrue\u001b[0m\u001b[0;34m)\u001b[0m\u001b[0;34m\u001b[0m\u001b[0m\n\u001b[0m",
      "\u001b[0;32m/Volumes/Disco_SD/redes_neuronales/Ejercicios/adaline.py\u001b[0m in \u001b[0;36mtrain\u001b[0;34m(P, T, alfa, MAX_ITE, CotaError, funcion, dibujar)\u001b[0m\n\u001b[1;32m    117\u001b[0m \u001b[0;34m\u001b[0m\u001b[0m\n\u001b[1;32m    118\u001b[0m \u001b[0;32mdef\u001b[0m \u001b[0mtrain\u001b[0m\u001b[0;34m(\u001b[0m\u001b[0mP\u001b[0m\u001b[0;34m,\u001b[0m \u001b[0mT\u001b[0m\u001b[0;34m,\u001b[0m \u001b[0malfa\u001b[0m\u001b[0;34m,\u001b[0m \u001b[0mMAX_ITE\u001b[0m\u001b[0;34m,\u001b[0m \u001b[0mCotaError\u001b[0m\u001b[0;34m,\u001b[0m \u001b[0mfuncion\u001b[0m\u001b[0;34m,\u001b[0m \u001b[0mdibujar\u001b[0m\u001b[0;34m)\u001b[0m\u001b[0;34m:\u001b[0m\u001b[0;34m\u001b[0m\u001b[0m\n\u001b[0;32m--> 119\u001b[0;31m     \u001b[0;34m(\u001b[0m\u001b[0mentran\u001b[0m\u001b[0;34m,\u001b[0m \u001b[0mCantPatrones\u001b[0m\u001b[0;34m)\u001b[0m \u001b[0;34m=\u001b[0m \u001b[0mP\u001b[0m\u001b[0;34m.\u001b[0m\u001b[0mshape\u001b[0m\u001b[0;34m\u001b[0m\u001b[0m\n\u001b[0m\u001b[1;32m    120\u001b[0m     \u001b[0mW\u001b[0m \u001b[0;34m=\u001b[0m \u001b[0mnp\u001b[0m\u001b[0;34m.\u001b[0m\u001b[0mrandom\u001b[0m\u001b[0;34m.\u001b[0m\u001b[0mrand\u001b[0m\u001b[0;34m(\u001b[0m\u001b[0;36m1\u001b[0m\u001b[0;34m,\u001b[0m \u001b[0mentran\u001b[0m\u001b[0;34m)\u001b[0m\u001b[0;34m\u001b[0m\u001b[0m\n\u001b[1;32m    121\u001b[0m     \u001b[0mb\u001b[0m \u001b[0;34m=\u001b[0m \u001b[0mnp\u001b[0m\u001b[0;34m.\u001b[0m\u001b[0mrandom\u001b[0m\u001b[0;34m.\u001b[0m\u001b[0mrand\u001b[0m\u001b[0;34m(\u001b[0m\u001b[0;34m)\u001b[0m\u001b[0;34m\u001b[0m\u001b[0m\n",
      "\u001b[0;31mValueError\u001b[0m: not enough values to unpack (expected 2, got 1)"
     ],
     "output_type": "error"
    }
   ],
   "source": [
    "train(ruido_train_scale,target_train,alpha,100,cota_err,\"purelin\",True)"
   ]
  },
  {
   "cell_type": "code",
   "execution_count": null,
   "metadata": {},
   "outputs": [],
   "source": []
  }
 ],
 "metadata": {
  "kernelspec": {
   "display_name": "Python 3",
   "language": "python",
   "name": "python3"
  },
  "language_info": {
   "codemirror_mode": {
    "name": "ipython",
    "version": 3
   },
   "file_extension": ".py",
   "mimetype": "text/x-python",
   "name": "python",
   "nbconvert_exporter": "python",
   "pygments_lexer": "ipython3",
   "version": "3.6.1"
  }
 },
 "nbformat": 4,
 "nbformat_minor": 2
}
